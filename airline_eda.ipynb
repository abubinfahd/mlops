{
 "cells": [
  {
   "attachments": {},
   "cell_type": "markdown",
   "metadata": {},
   "source": [
    "\n",
    "### About Dataset\n",
    "\n",
    "Dataset contains information about flight booking options from the website Easemytrip for flight travel between India's top 6 metro cities. There are 300261 datapoints and 11 features in the cleaned dataset. Data was collected for 50 days, from February 11th to March 31st, 2022. Data source was secondary data and was collected from Ease my trip website.\n",
    "\n",
    "\n",
    "### Features\n",
    "\n",
    "The various features of the cleaned dataset are explained below:\n",
    "1. *Airline*: The name of the airline company is stored in the airline column. It is a categorical feature having 6 different airlines.\n",
    "2. *Flight*: Flight stores information regarding the plane's flight code. It is a categorical feature.\n",
    "3. *Source City*: City from which the flight takes off. It is a categorical feature having 6 unique cities.\n",
    "4. *Departure Time*: This is a derived categorical feature obtained created by grouping time periods into bins. It stores information about the departure time and have 6 unique time labels.\n",
    "5. *Stops*: A categorical feature with 3 distinct values that stores the number of stops between the source and destination cities.\n",
    "6. *Arrival Time*: This is a derived categorical feature created by grouping time intervals into bins. It has six distinct time labels and keeps information about the arrival time.\n",
    "7. *Destination City*: City where the flight will land. It is a categorical feature having 6 unique cities.\n",
    "8. *Class*: A categorical feature that contains information on seat class; it has two distinct values: Business and Economy.\n",
    "9. *Duration*: A continuous feature that displays the overall amount of time it takes to travel between cities in hours.\n",
    "10. *Days Left*: This is a derived characteristic that is calculated by subtracting the trip date by the booking date.\n",
    "11. *Price*: Target variable stores information of the ticket price."
   ]
  },
  {
   "cell_type": "code",
   "execution_count": null,
   "metadata": {},
   "outputs": [],
   "source": [
    "import pandas as pd\n",
    "import numpy as np\n",
    "import matplotlib.pyplot as plt\n",
    "import seaborn as sns\n",
    "\n",
    "sns.set_style(\"whitegrid\")\n"
   ]
  },
  {
   "cell_type": "code",
   "execution_count": null,
   "metadata": {},
   "outputs": [],
   "source": [
    "df = pd.read_csv(\"data\\Clean_Dataset.csv\", index_col=0)\n",
    "df.head()"
   ]
  },
  {
   "cell_type": "code",
   "execution_count": null,
   "metadata": {},
   "outputs": [],
   "source": [
    "#check missing value\n",
    "df.isnull().sum()"
   ]
  },
  {
   "cell_type": "code",
   "execution_count": null,
   "metadata": {},
   "outputs": [],
   "source": [
    "df.describe(include=\"all\").T"
   ]
  },
  {
   "attachments": {},
   "cell_type": "markdown",
   "metadata": {},
   "source": [
    "### Let's check distribution"
   ]
  },
  {
   "cell_type": "code",
   "execution_count": null,
   "metadata": {},
   "outputs": [],
   "source": [
    "plt.figure(figsize=(7, 4))\n",
    "sns.histplot(x ='price', data = df, kde = True)\n",
    "plt.show()"
   ]
  },
  {
   "cell_type": "code",
   "execution_count": null,
   "metadata": {},
   "outputs": [],
   "source": [
    "plt.figure(figsize=(7, 4))\n",
    "sns.histplot(x ='price', data = df[df['class']== 'Economy'], kde = True)\n",
    "plt.show()"
   ]
  },
  {
   "cell_type": "code",
   "execution_count": null,
   "metadata": {},
   "outputs": [],
   "source": [
    "plt.figure(figsize=(7, 4))\n",
    "sns.histplot(x ='price', data = df[df['class'] != 'Economy'], kde = True)\n",
    "plt.show()"
   ]
  },
  {
   "cell_type": "code",
   "execution_count": null,
   "metadata": {},
   "outputs": [],
   "source": [
    "# visualization of catagoric features\n",
    "plt.figure(figsize=(17, 20))\n",
    "\n",
    "plt.subplot(4, 2, 1)\n",
    "sns.countplot(x=df['airline'], data=df)\n",
    "plt.title(\"Frequency of airline\")\n",
    "\n",
    "plt.subplot(4, 2, 2)\n",
    "sns.countplot(x=df[\"source_city\"], data=df)\n",
    "plt.title(\"Frequency of Source City\")\n",
    "\n",
    "plt.subplot(4, 2, 3)\n",
    "sns.countplot(x=df[\"departure_time\"], data=df)\n",
    "plt.title(\"Frequency of Departure Time\")\n",
    "\n",
    "plt.subplot(4, 2, 4)\n",
    "sns.countplot(x=df[\"stops\"], data=df)\n",
    "plt.title(\"Frequency of Stops\")\n",
    "\n",
    "plt.subplot(4, 2, 5)\n",
    "sns.countplot(x=df[\"arrival_time\"], data=df)\n",
    "plt.title(\"Frequency of Arrival Time\")\n",
    "\n",
    "plt.subplot(4, 2, 6)\n",
    "sns.countplot(x=df[\"destination_city\"], data=df)\n",
    "plt.title(\"Frequency of Destination City\")\n",
    "\n",
    "plt.subplot(4, 2, 7)\n",
    "sns.countplot(x=df[\"class\"], data=df)\n",
    "plt.title(\"Class Frequency\")\n",
    "\n",
    "plt.show()"
   ]
  },
  {
   "attachments": {},
   "cell_type": "markdown",
   "metadata": {},
   "source": [
    "### How does the ticket price vary between Economy and Business class?"
   ]
  },
  {
   "attachments": {},
   "cell_type": "markdown",
   "metadata": {},
   "source": [
    "To visualize the difference between the two kind of tickets, I will plot the prices for the two prices for both business and economy tickets for the different companies."
   ]
  },
  {
   "cell_type": "code",
   "execution_count": null,
   "metadata": {},
   "outputs": [],
   "source": [
    "plt.figure(figsize=(20, 5))\n",
    "sns.barplot(x='airline', y='price', hue=\"class\",\n",
    "            data=df.sort_values(\"price\")\n",
    "            )\n",
    "plt.show()"
   ]
  },
  {
   "attachments": {},
   "cell_type": "markdown",
   "metadata": {},
   "source": [
    "📌 Business flights are only available in two companies: Air India and Vistara. Also, there is a big gap between the prices in the two class that reaches almost 5 times the price of Economy for Business tickets."
   ]
  },
  {
   "attachments": {},
   "cell_type": "markdown",
   "metadata": {},
   "source": [
    "### How is the price affected when tickets are bought in just 1 or 2 days before departure?"
   ]
  },
  {
   "attachments": {},
   "cell_type": "markdown",
   "metadata": {},
   "source": [
    "To visualize how the prices changes depending on the number of days left, I will calculate the average price depending on the days left, to try to understand a pattern in the curve."
   ]
  },
  {
   "cell_type": "code",
   "execution_count": null,
   "metadata": {},
   "outputs": [],
   "source": [
    "df_temp = df.groupby(['days_left'])['price'].mean().reset_index()\n",
    "df_temp.head()"
   ]
  },
  {
   "cell_type": "code",
   "execution_count": null,
   "metadata": {},
   "outputs": [],
   "source": [
    "plt.figure(figsize=(15,6))\n",
    "ax = sns.scatterplot(x=\"days_left\",\n",
    "                     y=\"price\", data=df_temp)\n",
    "ax.set_title(\"Average prizes depending on the days left\",fontsize=15)\n",
    "plt.show()"
   ]
  },
  {
   "attachments": {},
   "cell_type": "markdown",
   "metadata": {},
   "source": [
    "### Does the price change with the duration of the flight?"
   ]
  },
  {
   "cell_type": "code",
   "execution_count": null,
   "metadata": {},
   "outputs": [],
   "source": [
    "df_temp = df.groupby(['duration'])['price'].mean().reset_index()\n",
    "\n",
    "plt.figure(figsize=(15,6))\n",
    "ax = sns.scatterplot(x=\"duration\", y=\"price\", data=df_temp)\n",
    "ax.set_title(\"Average prizes depending on the duration\",fontsize=15)\n",
    "plt.show()"
   ]
  },
  {
   "attachments": {},
   "cell_type": "markdown",
   "metadata": {},
   "source": [
    "📌 It is clear that here the relationship is not linear. The prices reaches a high price at a duration of 20 hours before lowering again.\n",
    "However some outliers seem to affect the regression curve ."
   ]
  },
  {
   "attachments": {},
   "cell_type": "markdown",
   "metadata": {},
   "source": [
    "### Does ticket price change based on the departure time and arrival time?"
   ]
  },
  {
   "cell_type": "code",
   "execution_count": null,
   "metadata": {},
   "outputs": [],
   "source": [
    "plt.figure(figsize = (18,8))\n",
    "plt.subplot(1,2,1)\n",
    "sns.boxplot(data=df, y=\"price\", x=\"departure_time\",showfliers=False)\n",
    "ax.set_title(\"Airline prices based on the departure time\",fontsize=15)\n",
    "\n",
    "plt.subplot(1,2,2)\n",
    "sns.boxplot(data=df, y=\"price\", x=\"arrival_time\",showfliers=False)\n",
    "ax.set_title(\"Airline prices based on the arrival time\",fontsize=15)\n",
    "plt.show()"
   ]
  },
  {
   "attachments": {},
   "cell_type": "markdown",
   "metadata": {},
   "source": [
    "### Does the number of stops influences the price?"
   ]
  },
  {
   "cell_type": "code",
   "execution_count": null,
   "metadata": {},
   "outputs": [],
   "source": [
    "fig, axs = plt.subplots (1, 2, gridspec_kw={'width_ratios': [5, 3]}, figsize=(25, 5))\n",
    "sns.barplot(y = \"price\", x = \"airline\",hue=\"stops\",data = df.loc[df[\"class\"]=='Economy'].sort_values(\"price\", ascending = False), ax=axs[0])\n",
    "axs[0].set_title(\"Airline prices based on the number of stops  for economy\",fontsize=20)\n",
    "\n",
    "sns.barplot(y = \"price\", x = \"airline\",hue=\"stops\",data = df.loc[df[\"class\"]=='Business'].sort_values(\"price\", ascending = False), ax=axs[1])\n",
    "axs[1].set_title(\"Airline prices based on the number of stops  for business\",fontsize=20)"
   ]
  }
 ],
 "metadata": {
  "kernelspec": {
   "display_name": "Python 3",
   "language": "python",
   "name": "python3"
  },
  "language_info": {
   "codemirror_mode": {
    "name": "ipython",
    "version": 3
   },
   "file_extension": ".py",
   "mimetype": "text/x-python",
   "name": "python",
   "nbconvert_exporter": "python",
   "pygments_lexer": "ipython3",
   "version": "3.8.6"
  },
  "orig_nbformat": 4
 },
 "nbformat": 4,
 "nbformat_minor": 2
}
